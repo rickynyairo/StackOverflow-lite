{
 "cells": [
  {
   "cell_type": "code",
   "execution_count": 2,
   "metadata": {
    "collapsed": false
   },
   "outputs": [],
   "source": [
    "from base_model import BaseModel\n",
    "\n",
    "class QuestionModel(BaseModel):\n",
    "    def __init__(myid):\n",
    "        self.myid = myid\n"
   ]
  },
  {
   "cell_type": "code",
   "execution_count": 7,
   "metadata": {
    "collapsed": false
   },
   "outputs": [
    {
     "name": "stdout",
     "output_type": "stream",
     "text": [
      "Not found\n"
     ]
    }
   ],
   "source": [
    "from base_model import BaseModel\n",
    "\n",
    "class QuestionModel(BaseModel):\n",
    "    def __init__(self, myid):\n",
    "        self.myid = myid\n",
    "\n",
    "question = QuestionModel(6337)\n",
    "question.update_item(field=\"text\", data=\"What the fuck is happening?\", item_id=6337)\n",
    "update = question.update_item(field=\"text\", data=\"What the fuck is happening?\", item_id=6337)\n",
    "\n",
    "print(update)\n"
   ]
  },
  {
   "cell_type": "code",
   "execution_count": 8,
   "metadata": {
    "collapsed": false
   },
   "outputs": [
    {
     "name": "stdout",
     "output_type": "stream",
     "text": [
      "Not found\n"
     ]
    }
   ],
   "source": [
    "from base_model import BaseModel\n",
    "\n",
    "class QuestionModel(BaseModel):\n",
    "    def __init__(self, myid):\n",
    "        self.myid = myid\n",
    "\n",
    "question = QuestionModel(6337)\n",
    "question.update_item(field=\"text\", data=\"What the fuck is happening?\", item_id=6337)\n",
    "update = question.update_item(field=\"text\", data=\"What the fuck is happening?\", item_id=6337)\n",
    "\n",
    "print(update)"
   ]
  },
  {
   "cell_type": "code",
   "execution_count": 1,
   "metadata": {
    "collapsed": false
   },
   "outputs": [
    {
     "name": "stdout",
     "output_type": "stream",
     "text": [
      "('What the fuck is happening?',)\n"
     ]
    }
   ],
   "source": [
    "import psycopg2\n",
    "#from .... import create_app\n",
    "\n",
    "# from ....database import init_db\n",
    "\n",
    "def init_db():\n",
    "    dburl = \"dbname='stackoverflow_lite' host='localhost' port='5432' user='rickynyairo' password='aces4890'\"\n",
    "    conn = psycopg2.connect(dburl)\n",
    "    return conn\n",
    "\n",
    "from base_model import BaseModel\n",
    "\n",
    "class QuestionModel(BaseModel):\n",
    "    def __init__(self, myid):\n",
    "        self.myid = myid\n",
    "        self.db = init_db()\n",
    "\n",
    "question = QuestionModel(6337)\n",
    "question.update_item(field=\"text\", data=\"What the fuck is happening?\", item_id=6337)\n",
    "update = question.update_item(field=\"text\", data=\"What the fuck is happening?\", item_id=6337)\n",
    "\n",
    "print(update)"
   ]
  },
  {
   "cell_type": "code",
   "execution_count": null,
   "metadata": {
    "collapsed": true
   },
   "outputs": [],
   "source": []
  },
  {
   "cell_type": "code",
   "execution_count": null,
   "metadata": {
    "collapsed": true
   },
   "outputs": [],
   "source": []
  }
 ],
 "metadata": {
  "kernelspec": {
   "display_name": "Python 3",
   "language": "python",
   "name": "python3"
  },
  "language_info": {
   "codemirror_mode": {
    "name": "ipython",
    "version": 3
   },
   "file_extension": ".py",
   "mimetype": "text/x-python",
   "name": "python",
   "nbconvert_exporter": "python",
   "pygments_lexer": "ipython3",
   "version": "3.6.0"
  }
 },
 "nbformat": 4,
 "nbformat_minor": 2
}
